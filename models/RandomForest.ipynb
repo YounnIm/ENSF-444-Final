{
 "cells": [
  {
   "cell_type": "markdown",
   "id": "a73cec2e",
   "metadata": {},
   "source": [
    "### Part 1: Load and Preprocess Data"
   ]
  },
  {
   "cell_type": "code",
   "execution_count": 1,
   "id": "90a7269f",
   "metadata": {},
   "outputs": [
    {
     "name": "stdout",
     "output_type": "stream",
     "text": [
      "First 5 rows:\n",
      "   Cement (component 1)(kg in a m^3 mixture)  \\\n",
      "0                                      540.0   \n",
      "1                                      540.0   \n",
      "2                                      332.5   \n",
      "3                                      332.5   \n",
      "4                                      198.6   \n",
      "\n",
      "   Blast Furnace Slag (component 2)(kg in a m^3 mixture)  \\\n",
      "0                                                0.0       \n",
      "1                                                0.0       \n",
      "2                                              142.5       \n",
      "3                                              142.5       \n",
      "4                                              132.4       \n",
      "\n",
      "   Fly Ash (component 3)(kg in a m^3 mixture)  \\\n",
      "0                                         0.0   \n",
      "1                                         0.0   \n",
      "2                                         0.0   \n",
      "3                                         0.0   \n",
      "4                                         0.0   \n",
      "\n",
      "   Water  (component 4)(kg in a m^3 mixture)  \\\n",
      "0                                      162.0   \n",
      "1                                      162.0   \n",
      "2                                      228.0   \n",
      "3                                      228.0   \n",
      "4                                      192.0   \n",
      "\n",
      "   Superplasticizer (component 5)(kg in a m^3 mixture)  \\\n",
      "0                                                2.5     \n",
      "1                                                2.5     \n",
      "2                                                0.0     \n",
      "3                                                0.0     \n",
      "4                                                0.0     \n",
      "\n",
      "   Coarse Aggregate  (component 6)(kg in a m^3 mixture)  \\\n",
      "0                                             1040.0      \n",
      "1                                             1055.0      \n",
      "2                                              932.0      \n",
      "3                                              932.0      \n",
      "4                                              978.4      \n",
      "\n",
      "   Fine Aggregate (component 7)(kg in a m^3 mixture)  Age (day)  \\\n",
      "0                                              676.0         28   \n",
      "1                                              676.0         28   \n",
      "2                                              594.0        270   \n",
      "3                                              594.0        365   \n",
      "4                                              825.5        360   \n",
      "\n",
      "   Concrete compressive strength(MPa, megapascals)   \n",
      "0                                         79.986111  \n",
      "1                                         61.887366  \n",
      "2                                         40.269535  \n",
      "3                                         41.052780  \n",
      "4                                         44.296075  \n",
      "\n",
      "Data shape: (1030, 9)\n",
      "\n",
      "Missing values per column:\n",
      "Cement (component 1)(kg in a m^3 mixture)                0\n",
      "Blast Furnace Slag (component 2)(kg in a m^3 mixture)    0\n",
      "Fly Ash (component 3)(kg in a m^3 mixture)               0\n",
      "Water  (component 4)(kg in a m^3 mixture)                0\n",
      "Superplasticizer (component 5)(kg in a m^3 mixture)      0\n",
      "Coarse Aggregate  (component 6)(kg in a m^3 mixture)     0\n",
      "Fine Aggregate (component 7)(kg in a m^3 mixture)        0\n",
      "Age (day)                                                0\n",
      "Concrete compressive strength(MPa, megapascals)          0\n",
      "dtype: int64\n",
      "\n",
      "Data shape after handling missing values: (1030, 9)\n"
     ]
    }
   ],
   "source": [
    "import pandas as pd\n",
    "import numpy as np\n",
    "from sklearn.model_selection import train_test_split\n",
    "from sklearn.preprocessing import StandardScaler\n",
    "from sklearn.ensemble import RandomForestRegressor\n",
    "from sklearn.metrics import mean_squared_error, r2_score\n",
    "from sklearn.pipeline import Pipeline\n",
    "from sklearn.model_selection import GridSearchCV\n",
    "\n",
    "concrete_data = pd.read_excel('concrete_data.xls')\n",
    "\n",
    "print(\"First 5 rows:\")\n",
    "print(concrete_data.head())\n",
    "\n",
    "print(\"\\nData shape:\", concrete_data.shape)\n",
    "print(\"\\nMissing values per column:\")\n",
    "print(concrete_data.isnull().sum())\n",
    "\n",
    "\n",
    "concrete_data = concrete_data.dropna()\n",
    "print(\"\\nData shape after handling missing values:\", concrete_data.shape)\n",
    "\n",
    "X = concrete_data.drop(columns=['Concrete compressive strength(MPa, megapascals) '])\n",
    "y = concrete_data['Concrete compressive strength(MPa, megapascals) ']\n",
    "\n",
    "# Split data (80% train, 20% test)\n",
    "X_train, X_test, y_train, y_test = train_test_split(X, y, test_size=0.2, random_state=42)\n",
    "\n"
   ]
  },
  {
   "cell_type": "markdown",
   "id": "2aa952a2",
   "metadata": {},
   "source": [
    "### Part 2: Build and Tune Random Forest Model"
   ]
  },
  {
   "cell_type": "code",
   "execution_count": 2,
   "id": "24cb397a",
   "metadata": {},
   "outputs": [
    {
     "name": "stdout",
     "output_type": "stream",
     "text": [
      "Fitting 5 folds for each of 36 candidates, totalling 180 fits\n",
      "Best parameters: {'rf__max_depth': None, 'rf__max_features': 'log2', 'rf__min_samples_split': 2, 'rf__n_estimators': 300}\n"
     ]
    }
   ],
   "source": [
    "pipeline = Pipeline([\n",
    "    ('scaler', StandardScaler()),\n",
    "    ('rf', RandomForestRegressor(random_state=42))\n",
    "])\n",
    "\n",
    "\n",
    "param_grid = {\n",
    "    'rf__n_estimators': [100, 200, 300],\n",
    "    'rf__max_depth': [None, 10, 20],\n",
    "    'rf__min_samples_split': [2, 5],\n",
    "    'rf__max_features': ['sqrt', 'log2']\n",
    "}\n",
    "\n",
    "grid_search = GridSearchCV(\n",
    "    estimator=pipeline,\n",
    "    param_grid=param_grid,\n",
    "    scoring='neg_mean_squared_error',\n",
    "    cv=5,\n",
    "    verbose=1,\n",
    "    n_jobs=-1\n",
    ")\n",
    "\n",
    "grid_search.fit(X_train, y_train)\n",
    "\n",
    "print(\"Best parameters:\", grid_search.best_params_)"
   ]
  },
  {
   "cell_type": "markdown",
   "id": "922889af",
   "metadata": {},
   "source": [
    "### Part 3: Evaluate Model and View Results"
   ]
  },
  {
   "cell_type": "code",
   "execution_count": 5,
   "id": "4732f789",
   "metadata": {},
   "outputs": [
    {
     "name": "stdout",
     "output_type": "stream",
     "text": [
      "Train MSE: 3.8242\n",
      "Test MSE: 28.9508\n",
      "Test R^2 Score: 0.8876\n",
      "\n",
      "Feature Importances:\n",
      "Cement (component 1)(kg in a m^3 mixture): 0.2470\n",
      "Blast Furnace Slag (component 2)(kg in a m^3 mixture): 0.0643\n",
      "Fly Ash (component 3)(kg in a m^3 mixture): 0.0469\n",
      "Water  (component 4)(kg in a m^3 mixture): 0.1260\n",
      "Superplasticizer (component 5)(kg in a m^3 mixture): 0.0768\n",
      "Coarse Aggregate  (component 6)(kg in a m^3 mixture): 0.0548\n",
      "Fine Aggregate (component 7)(kg in a m^3 mixture): 0.0574\n",
      "Age (day): 0.3269\n"
     ]
    }
   ],
   "source": [
    "# Get best model\n",
    "best_model = grid_search.best_estimator_\n",
    "\n",
    "# Make predictions\n",
    "y_train_pred = best_model.predict(X_train)\n",
    "y_test_pred = best_model.predict(X_test)\n",
    "\n",
    "# Calculate metrics\n",
    "train_mse = mean_squared_error(y_train, y_train_pred)\n",
    "test_mse = mean_squared_error(y_test, y_test_pred)\n",
    "r2 = r2_score(y_test, y_test_pred)\n",
    "\n",
    "# Display results\n",
    "print(f\"Train MSE: {train_mse:.4f}\")\n",
    "print(f\"Test MSE: {test_mse:.4f}\")\n",
    "print(f\"Test R^2 Score: {r2:.4f}\")\n",
    "\n",
    "# Feature importance\n",
    "importances = best_model.named_steps['rf'].feature_importances_\n",
    "feature_names = X.columns\n",
    "print(\"\\nFeature Importances:\")\n",
    "for name, importance in zip(feature_names, importances):\n",
    "    print(f\"{name}: {importance:.4f}\")"
   ]
  }
 ],
 "metadata": {
  "kernelspec": {
   "display_name": "Python 3",
   "language": "python",
   "name": "python3"
  },
  "language_info": {
   "codemirror_mode": {
    "name": "ipython",
    "version": 3
   },
   "file_extension": ".py",
   "mimetype": "text/x-python",
   "name": "python",
   "nbconvert_exporter": "python",
   "pygments_lexer": "ipython3",
   "version": "3.10.7"
  }
 },
 "nbformat": 4,
 "nbformat_minor": 5
}
